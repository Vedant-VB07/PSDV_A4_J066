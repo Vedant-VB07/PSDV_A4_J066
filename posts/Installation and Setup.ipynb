{
 "cells": [
  {
   "cell_type": "markdown",
   "metadata": {},
   "source": [
    "# **Installation and Setup**"
   ]
  },
  {
   "cell_type": "markdown",
   "metadata": {},
   "source": [
    "We can install the latest version of Seaborn using pip (Python’s Package Manager). "
   ]
  },
  {
   "cell_type": "markdown",
   "metadata": {},
   "source": [
    "Open your Command Prompt/Terminal on your computer and paste the following code to install the latest Seaborn version:"
   ]
  },
  {
   "cell_type": "code",
   "execution_count": null,
   "metadata": {
    "vscode": {
     "languageId": "powershell"
    }
   },
   "outputs": [],
   "source": [
    "pip install seaborn"
   ]
  },
  {
   "cell_type": "markdown",
   "metadata": {},
   "source": [
    "You can verify whether Seaborn is installed or not by opening a Python environment (for e.g. Jupyter Notebook) and typing:"
   ]
  },
  {
   "cell_type": "code",
   "execution_count": null,
   "metadata": {
    "vscode": {
     "languageId": "powershell"
    }
   },
   "outputs": [],
   "source": [
    "pip show seaborn"
   ]
  },
  {
   "cell_type": "markdown",
   "metadata": {},
   "source": [
    "If your installation fails, verify that you are running Python 3.8+ versions since Python 3.8+ versions support seaborn."
   ]
  },
  {
   "cell_type": "markdown",
   "metadata": {},
   "source": [
    "### Dependencies"
   ]
  },
  {
   "cell_type": "markdown",
   "metadata": {},
   "source": [
    "Seaborn has some dependencies that are required for the proper functioning of the library. Libraries like Matplotlib, Numpy, and Pandas are the mandatory dependencies necessary for the appropriate functioning of Seaborn. Libraries like SciPy, fastcluster, and statsmodels help enhance the features for data visualization."
   ]
  }
 ],
 "metadata": {
  "language_info": {
   "name": "python"
  }
 },
 "nbformat": 4,
 "nbformat_minor": 2
}
