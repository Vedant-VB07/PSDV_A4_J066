{
  "cells": [
    {
      "cell_type": "code",
      "execution_count": null,
      "metadata": {
        "id": "q4FvZny48cR3"
      },
      "outputs": [],
      "source": [
        "import numpy as np\n",
        "import pandas as pd\n",
        "import matplotlib.pyplot as plt\n",
        "import seaborn as sns\n",
        "import geopandas as gpd"
      ]
    },
    {
      "cell_type": "markdown",
      "metadata": {
        "id": "ocfBBicslG9_"
      },
      "source": [
        "# **Spatial Aggregation**"
      ]
    },
    {
      "cell_type": "markdown",
      "metadata": {
        "id": "r1BXLz5klUVf"
      },
      "source": [
        "1. Which state (consider all stations in that state) has the highest average PM2.5 concentration across all stations and across all years?\n"
      ]
    },
    {
      "cell_type": "code",
      "execution_count": null,
      "metadata": {
        "colab": {
          "base_uri": "https://localhost:8080/"
        },
        "id": "q3-oNqd98eQ9",
        "outputId": "9218da79-0724-4eae-964f-fe8fd443b29b"
      },
      "outputs": [
        {
          "name": "stdout",
          "output_type": "stream",
          "text": [
            "Delhi\n"
          ]
        }
      ],
      "source": [
        "data = pd.read_csv('Data.csv')\n",
        "max_pm_conc_state = data.groupby('state')['PM2.5'].sum().idxmax()\n",
        "print(max_pm_conc_state)"
      ]
    },
    {
      "cell_type": "markdown",
      "metadata": {
        "id": "PpFlFGDVljW9"
      },
      "source": [
        "2. Which state (consider all stations in that state) had the most days with hazardous PM2.5 levels (above 300 µg/m³) for the year 2023?\n",
        "\n"
      ]
    },
    {
      "cell_type": "code",
      "execution_count": null,
      "metadata": {
        "colab": {
          "base_uri": "https://localhost:8080/"
        },
        "id": "lw7UZT0c82Z1",
        "outputId": "c18006ba-1f51-44d8-fa81-1d5e21f08e60"
      },
      "outputs": [
        {
          "name": "stdout",
          "output_type": "stream",
          "text": [
            "Delhi\n"
          ]
        }
      ],
      "source": [
        "data['Timestamp'] = pd.to_datetime(data['Timestamp'])\n",
        "data_2023 = data[data['Timestamp'].dt.year == 2023]\n",
        "hazardous_df = data_2023[data_2023['PM2.5'] > 300]\n",
        "most_hazardous_count = hazardous_df.groupby('state')['Timestamp'].count()\n",
        "most_hazardous_state = most_hazardous_count.idxmax()\n",
        "print(most_hazardous_state)"
      ]
    },
    {
      "cell_type": "markdown",
      "metadata": {
        "id": "yvEN2tFullET"
      },
      "source": [
        "3. Which state has the highest variability in PM2.5 levels across its monitoring stations in 2023? (Think how would you measure variability)\n"
      ]
    },
    {
      "cell_type": "code",
      "execution_count": null,
      "metadata": {
        "id": "XSeAHLPMILx2"
      },
      "outputs": [],
      "source": [
        "most_hazardous_stations = data_2023.groupby('state')['PM2.5'].max()\n",
        "least_hazardous_stations = data_2023.groupby('state')['PM2.5'].min()\n",
        "variability = most_hazardous_stations - least_hazardous_stations\n",
        "print(variability.idxmax())\n",
        "\n",
        "# One of the ways of measuring variability is by finding the difference between the highest and lowest value."
      ]
    },
    {
      "cell_type": "markdown",
      "metadata": {
        "id": "I_jA5HJMlmrM"
      },
      "source": [
        "4. Which state has the lowest average PM2.5 levels during the Covid period (The year 2020-2021 both years inclusive)?"
      ]
    },
    {
      "cell_type": "code",
      "execution_count": null,
      "metadata": {
        "colab": {
          "base_uri": "https://localhost:8080/"
        },
        "id": "59vtwblQVqf2",
        "outputId": "71381af4-e521-4437-d9a4-5b9e7b3632f7"
      },
      "outputs": [
        {
          "name": "stdout",
          "output_type": "stream",
          "text": [
            "Himachal Pradesh\n"
          ]
        }
      ],
      "source": [
        "covid_data = data[(data['Timestamp'].dt.year >= 2020) & (data['Timestamp'].dt.year <= 2021)]\n",
        "lowest_covid_pm = covid_data.groupby('state')['PM2.5'].sum().idxmin()\n",
        "print(lowest_covid_pm)"
      ]
    },
    {
      "cell_type": "markdown",
      "metadata": {
        "id": "pwAv3SE4lqBS"
      },
      "source": [
        "# **Temporal Aggregation**"
      ]
    },
    {
      "cell_type": "markdown",
      "metadata": {
        "id": "odsjqKrMlsjh"
      },
      "source": [
        "1. Report the station that recorded the highest value of PM 2.5 for the month Aug of 2020."
      ]
    },
    {
      "cell_type": "code",
      "execution_count": null,
      "metadata": {
        "id": "kcefVS0s86Wq"
      },
      "outputs": [],
      "source": [
        "data_august_2020 = data[(data['Timestamp'].dt.year == 2020) & (data['Timestamp'].dt.month == 8)]\n",
        "highest_pm_index = data_august_2020['PM2.5'].idxmax()\n",
        "print(data_august_2020['station'][highest_pm_index])"
      ]
    },
    {
      "cell_type": "markdown",
      "metadata": {
        "id": "JBCK-K2GlxTS"
      },
      "source": [
        "2. For the year 2018, calculate the average PM2.5 concentration for each season (Seasons being Winter: December-February, Summer: March-May, and Monsoon: June-September) for stations Lal Bahadur Shastri Nagar, Kalaburagi - KSPCB. Identifying the season with the highest pollution.<br>\n",
        "[Thought Question] Can you suggest some potential factors on why certain seasons are generally more polluted than others?"
      ]
    },
    {
      "cell_type": "code",
      "execution_count": null,
      "metadata": {
        "id": "pc26UeIPITsn"
      },
      "outputs": [],
      "source": [
        "def seasons(m):\n",
        "    if m == 12 or m == 1 or m == 2:\n",
        "        return 'Winter'\n",
        "    elif m == 3 or m == 4 or m == 5:\n",
        "        return 'Summer'\n",
        "    elif m == 6 or m == 7 or m == 8 or m == 9:\n",
        "        return 'Monsoon'\n",
        "\n",
        "data['season'] = data['Timestamp'].dt.month.apply(seasons)\n",
        "\n",
        "df = data[data['Timestamp'].dt.year == 2018].copy()\n",
        "df['PM2.5'] = df['PM2.5'].fillna(0)\n",
        "\n",
        "station_data = df[df['station'] == 'Lal Bahadur Shastri Nagar, Kalaburagi - KSPCB'].groupby('season')['PM2.5'].mean()\n",
        "print('Average PM2.5 concentration in winter:', station_data['Winter'], 'µg/m^3')\n",
        "print('Average PM2.5 concentration in monsoon:', station_data['Monsoon'], 'µg/m^3')\n",
        "print('Average PM2.5 concentration in summer:', station_data['Summer'], 'µg/m^3')\n",
        "\n",
        "# Pollution is caused mainly due to human activities and also due to some natural events like wildfires. Pollution is affected by environmental factors like temperature, wind speed and direction. Monsoon usually has less pollution than winter and summer because the rain helps to wash out the pollutants. While in winters the pollutants are trapped on the lower level of atomsphere."
      ]
    },
    {
      "cell_type": "markdown",
      "metadata": {
        "id": "aZLFr-Xul4xU"
      },
      "source": [
        "3. Compare the average PM2.5 levels during weekends and weekdays for the station Lal Bahadur Shastri Nagar, Kalaburagi - KSPCB over the year 2021. Create a plot to show these trends Steps:<br>\n",
        "    a. Calculate the monthly average PM2.5 for weekdays and weekends separately<br>\n",
        "    b. X-axis: Months (January to December).<br>\n",
        "    c. Y-axis: Average PM2.5 levels.<br>\n",
        "    d. Use two lines: one for the monthly average PM2.5 levels on weekdays and one for weekends."
      ]
    },
    {
      "cell_type": "code",
      "execution_count": null,
      "metadata": {
        "id": "QhR14-5YImvR"
      },
      "outputs": [],
      "source": [
        "station_data = data[(data['Timestamp'].dt.year == 2021) & (data['station'] == 'Lal Bahadur Shastri Nagar, Kalaburagi - KSPCB')].copy()\n",
        "station_data['Day'] = station_data['Timestamp'].dt.dayofweek\n",
        "station_data['PM2.5'] = station_data['PM2.5'].fillna(station_data['PM2.5'].median())\n",
        "weekday_data = station_data[station_data['Day'] < 5]\n",
        "weekend_data = station_data[station_data['Day'] >= 5]\n",
        "weekday_mean = weekday_data.groupby(weekday_data['Timestamp'].dt.month)['PM2.5'].mean()\n",
        "weekend_mean  = weekend_data.groupby(weekend_data['Timestamp'].dt.month)['PM2.5'].mean()\n",
        "\n",
        "fig, ax = plt.subplots()\n",
        "plt.plot(weekday_mean, marker='o', label='Weekdays')\n",
        "plt.plot(weekend_mean, marker='o', label='Weekends')\n",
        "ax.set_xticks([1, 2, 3, 4, 5, 6, 7, 8, 9, 10, 11, 12])\n",
        "ax.set_xticklabels(['January', 'February', 'March', 'April', 'May', 'June', 'July', 'August', 'September', 'October', 'November', 'December'])\n",
        "ax.tick_params(\"x\", rotation=45)\n",
        "ax.set_title('Monthly Average of PM2.5 levels')\n",
        "ax.set_xlabel('Months')\n",
        "ax.set_ylabel('PM2.5 concentration (in µg/m^3)')\n",
        "ax.legend()\n",
        "plt.grid()\n",
        "plt.tight_layout()\n",
        "plt.show()"
      ]
    },
    {
      "cell_type": "markdown",
      "metadata": {
        "id": "a7TT4HitmSS9"
      },
      "source": [
        "# **Spatio-Temporal Aggregation**"
      ]
    },
    {
      "cell_type": "markdown",
      "metadata": {
        "id": "fTvQ2lcFmYeb"
      },
      "source": [
        "1. For each state, calculate the percentage increase or decrease in PM2.5 levels during monsoon months (June to September) compared to summer months (March to May). Which state has the most difference (increase or decrease) for the year 2022?"
      ]
    },
    {
      "cell_type": "code",
      "execution_count": null,
      "metadata": {
        "id": "mz-oUuoDIp3W"
      },
      "outputs": [],
      "source": [
        "data_2022 = data[data['Timestamp'].dt.year == 2022]\n",
        "monsoon_data = data_2022[data_2022['season'] == 'Monsoon'].groupby('state')['PM2.5'].mean()\n",
        "summer_data = data_2022[data_2022['season'] == 'Summer'].groupby('state')['PM2.5'].mean()\n",
        "pm_diff = monsoon_data - summer_data\n",
        "\n",
        "if pm_diff[np.abs(pm_diff).idxmax()] > 0:\n",
        "    print(f'{np.abs(pm_diff).max()}% increase in {np.abs(pm_diff).idxmax()}')\n",
        "else:\n",
        "    print(f'{np.abs(pm_diff).max()}% decrease in {np.abs(pm_diff).idxmax()}')\n"
      ]
    },
    {
      "cell_type": "markdown",
      "metadata": {
        "id": "LOf8RejTmbB1"
      },
      "source": [
        "2. Plot the average PM2.5 levels for Delhi across each season (Winter: December-February, Summer: March-May, Monsoon: June-September) from 2017 to 2023. What seasonal variation, if any, can you observe in pollution levels?"
      ]
    },
    {
      "cell_type": "code",
      "execution_count": null,
      "metadata": {
        "id": "IeVnqzpwItMp"
      },
      "outputs": [],
      "source": [
        "delhi_data = data[(data['state'] == 'Delhi') & (data['Timestamp'].dt.year <= 2023) & (data['Timestamp'].dt.year >= 2017)]\n",
        "winter_data = delhi_data[delhi_data['season'] == 'Winter'].groupby(delhi_data['Timestamp'].dt.year)['PM2.5'].mean()\n",
        "summer_data = delhi_data[delhi_data['season'] == 'Summer'].groupby(delhi_data['Timestamp'].dt.year)['PM2.5'].mean()\n",
        "monsoon_data = delhi_data[delhi_data['season'] == 'Monsoon'].groupby(delhi_data['Timestamp'].dt.year)['PM2.5'].mean()\n",
        "\n",
        "plt.plot(winter_data, marker='.', label='Winter')\n",
        "plt.plot(summer_data, marker='.', label='Summer')\n",
        "plt.plot(monsoon_data, marker='.', label='Monsoon')\n",
        "plt.legend(loc = 'upper right')\n",
        "plt.xlabel('Year')\n",
        "plt.ylabel('PM2.5 concentration (in µg/m³)')\n",
        "plt.title('Average PM2.5 levels for Delhi across each season')\n",
        "plt.grid()\n",
        "plt.tight_layout()\n",
        "plt.show()\n",
        "# Pollution levels are highest in winter, followed by summer and monsoon seasons, where rain helps in reducing pollution by washing out pllutants.\n"
      ]
    },
    {
      "cell_type": "markdown",
      "metadata": {
        "id": "2lVwaS_8mfj-"
      },
      "source": [
        "3. Plot a time-series graph comparing Delhi’s PM2.5 levels with Mumbai’s from 2015 to 2023. Which city had more fluctuations? (Hint: Think what fluctuation means)"
      ]
    },
    {
      "cell_type": "code",
      "execution_count": null,
      "metadata": {
        "id": "nHQQzI-7Iu9S"
      },
      "outputs": [],
      "source": [
        "delhi_data = data[(data['state'] == 'Delhi') & (2015 <= data['Timestamp'].dt.year) & (data['Timestamp'].dt.year <= 2023)]\n",
        "mumbai_data = data[(data['city'] == 'Mumbai') & (2015 <= data['Timestamp'].dt.year) & (data['Timestamp'].dt.year <= 2023)]\n",
        "\n",
        "\n",
        "plt.plot(delhi_data.groupby(delhi_data['Timestamp'].dt.year)['PM2.5'].mean(), marker = '.', label = 'Delhi')\n",
        "plt.plot(mumbai_data.groupby(mumbai_data['Timestamp'].dt.year)['PM2.5'].mean(), marker = '.', label='Mumbai')\n",
        "plt.legend()\n",
        "plt.xlabel('Year')\n",
        "plt.ylabel('PM2.5 concentration (in µg/m³)')\n",
        "plt.title('Average PM2.5 levels')\n",
        "plt.grid()\n",
        "plt.show()\n",
        "\n",
        "# Delhi had more fluctuations because the PM2.5 levels in Mumbai showed a stable gradual increase while in Delhi the levels showed a drastic diffrence in PM2.5 levels over the years."
      ]
    },
    {
      "cell_type": "markdown",
      "metadata": {
        "id": "kGcxoWvamhLd"
      },
      "source": [
        "# **Population-Based**"
      ]
    },
    {
      "cell_type": "markdown",
      "metadata": {
        "id": "UKklxAmump6x"
      },
      "source": [
        "1. Which state in India has the highest number of monitoring stations relative to its population?"
      ]
    },
    {
      "cell_type": "code",
      "execution_count": null,
      "metadata": {
        "id": "gVZDDURiIXWV"
      },
      "outputs": [],
      "source": [
        "data1 = pd.read_csv(\"Data.csv\")\n",
        "data2 = pd.read_csv(\"State_data.csv\")\n",
        "\n",
        "a = data1.groupby(\"state\")[\"address\"].count().reset_index()\n",
        "a.columns = [\"state\", \"stations\"]\n",
        "\n",
        "b = data2.groupby(\"State\")[\"Population\"].sum().reset_index()\n",
        "\n",
        "merged = pd.merge(a, b, left_on=\"state\", right_on=\"State\")\n",
        "merged[\"stations_per_person\"] = merged[\"stations\"] / merged[\"Population\"]\n",
        "\n",
        "highest_state = merged.loc[merged[\"stations_per_person\"].idxmax()]\n",
        "print(\"State with highest monitoring stations relative to population:\")\n",
        "print(highest_state[[\"state\", \"stations_per_person\"]])"
      ]
    },
    {
      "cell_type": "markdown",
      "metadata": {
        "id": "L4EaSGwJsjWP"
      },
      "source": [
        "Answer: According to the output given by the above code, the state with highest monitoring stations relative to population is Chandigarh."
      ]
    },
    {
      "cell_type": "markdown",
      "metadata": {
        "id": "eEJvmQLDmswH"
      },
      "source": [
        "2. Plot a bar chart showing the top 5 most polluted states in terms of per capita PM2.5 exposure in 2023."
      ]
    },
    {
      "cell_type": "code",
      "execution_count": null,
      "metadata": {
        "id": "4nqxRL1zTFxl"
      },
      "outputs": [],
      "source": [
        "data1 = pd.read_csv(\"Data.csv\")\n",
        "data2 = pd.read_csv(\"State_data.csv\")\n",
        "a = data1.groupby(\"state\")[\"PM2.5\"].mean().reset_index()\n",
        "\n",
        "b = data2.groupby(\"State\")[\"Population\"].sum().reset_index()\n",
        "\n",
        "c = pd.merge(a, b, left_on = \"state\", right_on = \"State\")\n",
        "c[\"PM2.5_Per_Capita\"] = c[\"PM2.5\"]/c[\"Population\"]\n",
        "\n",
        "Top_5_Most_Polluted_States = c.sort_values(by = \"PM2.5_Per_Capita\", ascending = False).head()\n",
        "\n",
        "print(Top_5_Most_Polluted_States[[\"State\", \"PM2.5_Per_Capita\"]])\n",
        "\n",
        "plt.figure()\n",
        "plt.bar(Top_5_Most_Polluted_States[\"State\"], Top_5_Most_Polluted_States[\"PM2.5_Per_Capita\"])\n",
        "plt.xlabel(\"State\")\n",
        "plt.ylabel(\"Per Capita PM2.5 Exposure\")\n",
        "plt.title(\"Top 5 Most Polluted States by Per Capita PM2.5 Exposure (2023)\")\n",
        "plt.show()"
      ]
    },
    {
      "cell_type": "markdown",
      "metadata": {
        "id": "8YdJ1ZfKm1pu"
      },
      "source": [
        "3. Plot the relationship between population density and average PM2.5 concentration for each state. What conclusion can you draw about the correlation between population density and pollution?<br>\n",
        "    a. X-axis: Population density (people per square kilometer).<br>\n",
        "    b. Y-axis: Average PM2.5 concentration.<br>\n",
        "    c. Use a scatter plot to show the relationship, where each point represents a state."
      ]
    },
    {
      "cell_type": "code",
      "execution_count": null,
      "metadata": {
        "id": "A1zQKty9UFZ0"
      },
      "outputs": [],
      "source": [
        "data1 = pd.read_csv(\"Data.csv\")\n",
        "data2 = pd.read_csv(\"State_data.csv\")\n",
        "\n",
        "a = data1.groupby(\"state\")[\"PM2.5\"].mean().reset_index()\n",
        "\n",
        "b = data2.groupby(\"State\")[\"Population\"].sum().reset_index()\n",
        "c = data2.groupby(\"State\")[\"Area (km2)\"].sum().reset_index()\n",
        "\n",
        "d = pd.merge(a, b, left_on = \"state\", right_on = \"State\")\n",
        "d = pd.merge(d, c, on=\"State\")\n",
        "\n",
        "d[\"Population_density\"] = d[\"Population\"]/d[\"Area (km2)\"]\n",
        "d[\"Average_PM2.5_conc\"] = d[\"PM2.5\"]\n",
        "\n",
        "plt.figure()\n",
        "plt.scatter(d[\"Population_density\"], d[\"Average_PM2.5_conc\"])\n",
        "plt.xlabel(\"Population Density (people per km2)\")\n",
        "plt.ylabel(\"Average PM2.5 Concentration\")\n",
        "plt.title(\"Relationship Between Population Density and PM2.5 Concentration\")\n",
        "\n",
        "# for i, row in d.iterrows():\n",
        "#     plt.text(row[\"Population_density\"], row[\"Average_PM2.5_conc\"], row[\"State\"], fontsize=5)\n",
        "\n",
        "plt.show()"
      ]
    },
    {
      "cell_type": "markdown",
      "metadata": {
        "id": "Y0L60SOZpHi5"
      },
      "source": [
        "Answer: We can observe that very high population density may lead to higher pollution levels. But the overall trend does not show a clear linear relationship. So there might be other environmental and human factors playing a significant role in determining pollution levels.\n",
        "\n",
        "\n",
        "\n",
        "\n",
        "\n",
        "\n",
        "\n"
      ]
    },
    {
      "cell_type": "markdown",
      "metadata": {
        "id": "e5nHYdyhnEsG"
      },
      "source": [
        "# **Area Based**"
      ]
    },
    {
      "cell_type": "markdown",
      "metadata": {
        "id": "IoOcrIkAnKA0"
      },
      "source": [
        "1. Which state has the highest PM2.5 concentration per square kilometer? Plot the pollution levels for all states relative to their area.<br>\n",
        "    a. X-axis: States.<br>\n",
        "    b. Y-axis: PM2.5 concentration per square kilometer.<br>\n",
        "    c. Use a bar plot where each bar represents a state, and the height shows PM2.5 per sq km."
      ]
    },
    {
      "cell_type": "code",
      "execution_count": null,
      "metadata": {
        "id": "6eQELnRLpd9e"
      },
      "outputs": [],
      "source": [
        "data1 = pd.read_csv(\"Data.csv\")\n",
        "data2 = pd.read_csv(\"State_data.csv\")\n",
        "\n",
        "a = data1.groupby(\"state\")[\"PM2.5\"].sum().reset_index()\n",
        "b = data2.groupby(\"State\")[\"Area (km2)\"].sum().reset_index()\n",
        "\n",
        "c = pd.merge(a, b, left_on = \"state\", right_on = \"State\")\n",
        "\n",
        "c[\"PM2.5 Conc per sq km\"] = c[\"PM2.5\"]/c[\"Area (km2)\"]\n",
        "\n",
        "plt.figure()\n",
        "plt.bar(c[\"state\"], c[\"PM2.5 Conc per sq km\"])\n",
        "plt.xlabel(\"States\")\n",
        "plt.xticks(rotation=90)\n",
        "plt.ylabel(\"PM2.5 concentration per square kilometer\")\n",
        "plt.title(\"pollution levels for all states relative to their area\")\n",
        "\n",
        "plt.show()"
      ]
    },
    {
      "cell_type": "markdown",
      "metadata": {
        "id": "HefMMQMysYwA"
      },
      "source": [
        "Delhi has the highest PM2.5 concentration per square kilometer."
      ]
    },
    {
      "cell_type": "markdown",
      "metadata": {
        "id": "4C5imtT8nWPL"
      },
      "source": [
        "2. Compare the total number of monitoring stations per square kilometer in each state. Identify the state with the highest density of monitoring stations relative to its area. Show a bar plot where each bar represents a state, and the height shows the number of monitoring stations per square kilometer."
      ]
    },
    {
      "cell_type": "code",
      "execution_count": null,
      "metadata": {
        "id": "jFYNiB2Qr1h3"
      },
      "outputs": [],
      "source": [
        "data1 = pd.read_csv(\"Data.csv\")\n",
        "data2 = pd.read_csv(\"State_data.csv\")\n",
        "\n",
        "\n",
        "a = data1.groupby(\"state\")[\"station\"].nunique().reset_index()\n",
        "b = data2.groupby(\"State\")[\"Area (km2)\"].sum().reset_index()\n",
        "\n",
        "c = pd.merge(a, b, left_on = \"state\", right_on = \"State\")\n",
        "c[\"Tot_stations_per_sq_km\"] = c[\"station\"]/c[\"Area (km2)\"]\n",
        "\n",
        "plt.figure()\n",
        "plt.bar(c[\"state\"], c[\"Tot_stations_per_sq_km\"])\n",
        "plt.xlabel(\"States\")\n",
        "plt.xticks(rotation = 90)\n",
        "plt.ylabel(\"Number of monitoring stations per square kilometer\")\n",
        "plt.title(\"Total number of monitoring stations per square kilometer in each state\")\n",
        "\n",
        "plt.show()"
      ]
    },
    {
      "cell_type": "markdown",
      "metadata": {
        "id": "ERqtsufIsAJ_"
      },
      "source": [
        "Answer: The state with highest density of monitoring stations relative to its area is Delhi."
      ]
    },
    {
      "cell_type": "markdown",
      "metadata": {
        "id": "lwAH_EgHnZ9F"
      },
      "source": [
        "3. Compare the average PM2.5 levels between Maharashtra and Madhya Pradesh over the year 2021. Given that both states have similar area sizes but different population densities, analyze how population density impacts pollution levels in these two states."
      ]
    },
    {
      "cell_type": "code",
      "execution_count": null,
      "metadata": {
        "id": "nrcY1RfuxrB8"
      },
      "outputs": [],
      "source": [
        "data1 = pd.read_csv(\"Data.csv\")\n",
        "data2 = pd.read_csv(\"State_data.csv\")\n",
        "\n",
        "data1[\"Timestamp\"] = pd.to_datetime(data1[\"Timestamp\"], format=\"%Y-%m-%d\")\n",
        "data_2021 = data1[data1[\"Timestamp\"].dt.year == 2021]\n",
        "\n",
        "a = data_2021.groupby(\"state\")[\"PM2.5\"].mean().reset_index()\n",
        "\n",
        "b = data2.groupby(\"State\")[\"Population\"].sum().reset_index()\n",
        "c = data2.groupby(\"State\")[\"Area (km2)\"].sum().reset_index()\n",
        "\n",
        "d = pd.merge(a, b, left_on = \"state\", right_on = \"State\")\n",
        "d = pd.merge(d, c, on=\"State\")\n",
        "\n",
        "d[\"Population_density\"] = d[\"Population\"]/d[\"Area (km2)\"]\n",
        "\n",
        "wanted = [\"Maharashtra\", \"Madhya Pradesh\"]\n",
        "check_if = d[\"state\"].isin(wanted)\n",
        "\n",
        "e = d[check_if]\n",
        "\n",
        "print(e[[\"state\", \"PM2.5\", \"Population_density\"]])"
      ]
    },
    {
      "cell_type": "markdown",
      "metadata": {
        "id": "VYsW1NTIrYRn"
      },
      "source": [
        "Answer: While Madhya Pradesh and Maharashtra have similar land areas, Maharashtra has a significantly higher population density. However, their PM2.5 pollution levels are nearly the same, indicating that population density alone does not directly affect air pollution levels. Other factors like industrial activity, geographical conditions, transportation emissions, and environmental regulations likely have a bigger impact."
      ]
    },
    {
      "cell_type": "markdown",
      "metadata": {
        "id": "B-oGsLhFniLj"
      },
      "source": [
        "# **Funding Based**"
      ]
    },
    {
      "cell_type": "markdown",
      "metadata": {
        "id": "p0eQbiKdnlTz"
      },
      "source": [
        "1. Compare the average PM2.5 levels between states that received NCAP funding and those that did not in 2021."
      ]
    },
    {
      "cell_type": "code",
      "execution_count": null,
      "metadata": {
        "id": "BLecQ-u-X1vt"
      },
      "outputs": [],
      "source": [
        "pm25_df = pd.read_csv(\"Data.csv\")\n",
        "ncap_df = pd.read_csv(\"NCAP_Funding.csv\")\n",
        "funding_column = \"Amount released during FY 2021-22\"\n",
        "ncap_df = ncap_df[ncap_df[funding_column].astype(str) != \"-\"]\n",
        "funded_states = set(ncap_df[\"State\"])\n",
        "pm25_df[\"received_funding\"] = pm25_df[\"state\"].isin(funded_states)\n",
        "avg_pm25_funded = pm25_df[pm25_df[\"received_funding\"] == True][\"PM2.5\"].mean()\n",
        "avg_pm25_non_funded = pm25_df[pm25_df[\"received_funding\"] == False][\"PM2.5\"].mean()\n",
        "print(f\"Average PM2.5 Level (Funded States): {avg_pm25_funded:.2f}\")\n",
        "print(f\"Average PM2.5 Level (Non-Funded States): {avg_pm25_non_funded:.2f}\")\n"
      ]
    },
    {
      "cell_type": "markdown",
      "metadata": {
        "id": "xaGtAGxanoR5"
      },
      "source": [
        "2. Create a time series plot showing PM2.5 levels with an increment in NCAP funding for Assam. Has an increment of the financing led to noticeable improvements in air quality?"
      ]
    },
    {
      "cell_type": "code",
      "execution_count": null,
      "metadata": {
        "id": "059ZaIfNkeyg"
      },
      "outputs": [],
      "source": [
        "pm25_df = pd.read_csv(\"data.csv\")\n",
        "ncap_df = pd.read_csv(\"NCAP_Funding.csv\")\n",
        "pm25_df[\"Timestamp\"] = pd.to_datetime(pm25_df[\"Timestamp\"])\n",
        "pm25_df[\"Year\"] = pm25_df[\"Timestamp\"].dt.year\n",
        "pm25_assam = pm25_df[pm25_df[\"state\"] == \"Assam\"].groupby(\"Year\")[\"PM2.5\"].mean().reset_index()\n",
        "ncap_assam = ncap_df[ncap_df[\"State\"] == \"Assam\"]\n",
        "funding_data = pd.DataFrame({\n",
        "    \"Year\": [2019, 2020, 2021],\n",
        "    \"Funding\": [\n",
        "        ncap_assam[\"Amount released during FY 2019-20\"].values[0],\n",
        "        ncap_assam[\"Amount released during FY 2020-21\"].values[0],\n",
        "        ncap_assam[\"Amount released during FY 2021-22\"].values[0]\n",
        "    ]\n",
        "})\n",
        "merged_df = pd.merge(pm25_assam, funding_data, on=\"Year\", how=\"inner\")\n",
        "fig, ax1 = plt.subplots(figsize=(10, 5))\n",
        "ax1.plot(merged_df[\"Year\"], merged_df[\"PM2.5\"], color=\"red\", marker=\"o\", label=\"PM2.5 Levels\")\n",
        "ax1.set_xlabel(\"Year\")\n",
        "ax1.set_ylabel(\"PM2.5 Level (µg/m³)\", color=\"red\")\n",
        "ax1.tick_params(axis=\"y\", labelcolor=\"red\")\n",
        "ax2 = ax1.twinx()\n",
        "ax2.plot(merged_df[\"Year\"], merged_df[\"Funding\"], color=\"blue\", marker=\"s\", label=\"NCAP Funding\")\n",
        "ax2.set_ylabel(\"NCAP Funding (in crores)\", color=\"blue\")\n",
        "ax2.tick_params(axis=\"y\", labelcolor=\"blue\")\n",
        "plt.title(\"PM2.5 Levels vs NCAP Funding in Assam\")\n",
        "fig.legend(loc=\"upper right\")\n",
        "plt.grid()\n",
        "plt.show()\n"
      ]
    },
    {
      "cell_type": "markdown",
      "metadata": {
        "id": "R4L7jgrEnqwq"
      },
      "source": [
        "3. Create a scatter plot to showcase the area versus funding received by a state. Mark every state with a different color and show the legend outside the plot."
      ]
    },
    {
      "cell_type": "code",
      "execution_count": null,
      "metadata": {
        "id": "HOzFr_-93luv"
      },
      "outputs": [],
      "source": [
        "import pandas as pd\n",
        "import matplotlib.pyplot as plt\n",
        "funding_df = pd.read_csv(\"NCAP_Funding.csv\")\n",
        "area_df = pd.read_csv(\"state_data.csv\")\n",
        "area_df.rename(columns={\"Area (km2)\": \"Area\"}, inplace=True)\n",
        "funding_df[\"Total_Funding\"] = (\n",
        "    funding_df[\"Amount released during FY 2019-20\"].fillna(0) +\n",
        "    funding_df[\"Amount released during FY 2020-21\"].fillna(0) +\n",
        "    funding_df[\"Amount released during FY 2021-22\"].fillna(0)\n",
        ")\n",
        "\n",
        "merged_df = area_df.merge(funding_df, on=\"State\", how=\"left\")\n",
        "\n",
        "states = merged_df[\"State\"].unique()\n",
        "colors = plt.cm.tab10(range(len(states)))\n",
        "state_color_map = {state: colors[i] for i, state in enumerate(states)}\n",
        "\n",
        "plt.figure(figsize=(12, 6))\n",
        "\n",
        "for state in states:\n",
        "    subset = merged_df[merged_df[\"State\"] == state]\n",
        "    plt.scatter(subset[\"Area\"], subset[\"Total_Funding\"], color=state_color_map[state], label=state, edgecolors=\"black\")\n",
        "\n",
        "plt.xlabel(\"Area (km²)\")\n",
        "plt.ylabel(\"Total NCAP Funding (in crores)\")\n",
        "plt.title(\"Scatter Plot of State Area vs. NCAP Funding\")\n",
        "plt.legend(title=\"States\", bbox_to_anchor=(1.05, 1), loc=\"upper left\")\n",
        "plt.tight_layout()\n",
        "plt.show()\n"
      ]
    },
    {
      "cell_type": "markdown",
      "metadata": {
        "id": "h4v39r91nvVr"
      },
      "source": [
        "# **Miscellaneous Questions**"
      ]
    },
    {
      "cell_type": "markdown",
      "metadata": {
        "id": "1MNkT8dAnyuf"
      },
      "source": [
        "1.  For the most polluted city in 2023 (highest average pollution in 2023), calculate the\n",
        "percentage of days with PM2.5 levels above the hazardous threshold (300 µg/m³)["
      ]
    },
    {
      "cell_type": "code",
      "execution_count": null,
      "metadata": {
        "colab": {
          "base_uri": "https://localhost:8080/"
        },
        "id": "jFoQdHDCXXfs",
        "outputId": "6f0f43a8-8fc4-4e75-ec32-a1d7f4185c1f"
      },
      "outputs": [
        {
          "name": "stdout",
          "output_type": "stream",
          "text": [
            "23.076923076923077%\n"
          ]
        }
      ],
      "source": [
        "most_polluted_city = data_2023.groupby('city')['PM2.5'].mean().idxmax()\n",
        "most_polluted_city_data = data_2023[data_2023['city'] == most_polluted_city]\n",
        "hazardous_days = most_polluted_city_data[most_polluted_city_data['PM2.5']>300]['Timestamp'].count()\n",
        "non_hazardous_days = most_polluted_city_data[most_polluted_city_data['PM2.5']<=300]['Timestamp'].count()\n",
        "percentage_hazardous_days = 100*(hazardous_days)/(hazardous_days + non_hazardous_days)\n",
        "print(f'{percentage_hazardous_days}%')"
      ]
    },
    {
      "cell_type": "markdown",
      "metadata": {
        "id": "FkJfSO8YNg-2"
      },
      "source": [
        "2. Analyze the PM2.5 levels in Delhi during Diwali (October-November) and New Year\n",
        "compared to regular months over the 3 years (2018-2020). Do you observe any\n",
        "significant pollution spikes during these festivals? If spikes are observed, Can you mark\n",
        "these spikes using arrows?"
      ]
    },
    {
      "cell_type": "code",
      "execution_count": null,
      "metadata": {
        "id": "hhNuijVtvyad"
      },
      "outputs": [],
      "source": [
        "pm25_df = pd.read_csv(\"data.csv\")\n",
        "pm25_df[\"Timestamp\"] = pd.to_datetime(pm25_df[\"Timestamp\"])\n",
        "pm25_df[\"Year\"] = pm25_df[\"Timestamp\"].dt.year\n",
        "pm25_df[\"Month\"] = pm25_df[\"Timestamp\"].dt.month\n",
        "pm25_df[\"Day\"] = pm25_df[\"Timestamp\"].dt.day\n",
        "pm25_delhi = pm25_df[pm25_df[\"state\"] == \"Delhi\"]\n",
        "\n",
        "monthly_avg_pm25 = pm25_delhi.groupby([\"Year\", \"Month\"])[\"PM2.5\"].mean().reset_index()\n",
        "new_year_months = [1]\n",
        "diwali_months = [10, 11]\n",
        "winter_spike_months = [12]\n",
        "\n",
        "spike_points = []\n",
        "for year in [2018, 2019, 2020]:\n",
        "        winter_avg = monthly_avg_pm25[\n",
        "        (monthly_avg_pm25[\"Year\"] == year) & (monthly_avg_pm25[\"Month\"].isin(winter_spike_months + new_year_months))\n",
        "    ][\"PM2.5\"].mean()\n",
        "    yearly_avg = monthly_avg_pm25[monthly_avg_pm25[\"Year\"] == year][\"PM2.5\"].mean()\n",
        "    for month in [12, 1]:\n",
        "        monthly_pm25 = monthly_avg_pm25[\n",
        "            (monthly_avg_pm25[\"Year\"] == year) & (monthly_avg_pm25[\"Month\"] == month)\n",
        "        ][\"PM2.5\"].mean()\n",
        "        if monthly_pm25 > yearly_avg * 1.2:\n",
        "            spike_points.append((year, month, monthly_pm25))\n",
        "\n",
        "plt.figure(figsize=(12, 6))\n",
        "for year in [2018, 2019, 2020]:\n",
        "    yearly_data = monthly_avg_pm25[monthly_avg_pm25[\"Year\"] == year]\n",
        "    plt.plot(yearly_data[\"Month\"], yearly_data[\"PM2.5\"], marker=\"o\", label=f\"{year}\")\n",
        "for year, month, pm25_value in spike_points:\n",
        "    offset = 40 if month == 12 else 30\n",
        "    plt.annotate(\n",
        "        f\"{year} ({int(pm25_value)})\",\n",
        "        xy=(month, pm25_value),\n",
        "        xytext=(month, pm25_value + offset),\n",
        "        arrowprops=dict(arrowstyle=\"->\", color=\"red\", lw=1.5),\n",
        "        fontsize=10,\n",
        "        color=\"red\",\n",
        "        ha=\"center\"\n",
        "    )\n",
        "plt.xlabel(\"Month\")\n",
        "plt.ylabel(\"PM2.5 Level (µg/m³)\")\n",
        "plt.title(\"PM2.5 Levels in Delhi (2018-2020) with New Year & December Spikes\")\n",
        "plt.xticks(range(1, 13), [\"Jan\", \"Feb\", \"Mar\", \"Apr\", \"May\", \"Jun\", \"Jul\", \"Aug\", \"Sep\", \"Oct\", \"Nov\", \"Dec\"])\n",
        "plt.legend(title=\"Year\")\n",
        "plt.grid()\n",
        "plt.show()\n"
      ]
    },
    {
      "cell_type": "markdown",
      "metadata": {
        "id": "iCW-Dv7JNjfO"
      },
      "source": [
        "3.  Identify the state that received the highest NCAP funding in 2020 and determine if its air\n",
        "pollution levels improved significantly by 2023. Use a line graph to compare yearly\n",
        "average PM2.5 trends."
      ]
    },
    {
      "cell_type": "code",
      "execution_count": null,
      "metadata": {
        "id": "fa8A7DCz0g-6"
      },
      "outputs": [],
      "source": [
        "funding_df = pd.read_csv(\"NCAP_Funding.csv\")\n",
        "pm25_df = pd.read_csv(\"data.csv\")\n",
        "\n",
        "highest_funded_state = funding_df.loc[\n",
        "    funding_df[\"Amount released during FY 2020-21\"].idxmax(), \"State\"\n",
        "]\n",
        "\n",
        "pm25_df[\"Timestamp\"] = pd.to_datetime(pm25_df[\"Timestamp\"])\n",
        "pm25_df[\"Year\"] = pm25_df[\"Timestamp\"].dt.year\n",
        "\n",
        "state_pm25 = pm25_df[pm25_df[\"state\"] == highest_funded_state]\n",
        "\n",
        "yearly_avg_pm25 = state_pm25.groupby(\"Year\")[\"PM2.5\"].mean().reset_index()\n",
        "\n",
        "yearly_avg_pm25 = yearly_avg_pm25[(yearly_avg_pm25[\"Year\"] >= 2018) & (yearly_avg_pm25[\"Year\"] <= 2023)]\n",
        "\n",
        "plt.figure(figsize=(10, 5))\n",
        "plt.plot(yearly_avg_pm25[\"Year\"], yearly_avg_pm25[\"PM2.5\"], marker=\"o\", linestyle=\"-\", color=\"blue\", label=highest_funded_state)\n",
        "plt.xlabel(\"Year\")\n",
        "plt.ylabel(\"Average PM2.5 Level (µg/m³)\")\n",
        "plt.title(f\"Yearly Average PM2.5 Trends in {highest_funded_state} (2018-2023)\")\n",
        "plt.grid()\n",
        "plt.legend()\n",
        "plt.show()\n"
      ]
    },
    {
      "cell_type": "markdown",
      "metadata": {
        "id": "sZIxghT60gcd"
      },
      "source": []
    },
    {
      "cell_type": "markdown",
      "metadata": {
        "id": "ZvM9Y3C3NoWa"
      },
      "source": [
        "4. Draw the map of India and plot the sensor locations on the map."
      ]
    },
    {
      "cell_type": "code",
      "execution_count": null,
      "metadata": {
        "id": "9kerjfcx1_4t"
      },
      "outputs": [],
      "source": [
        "india_map = gpd.read_file(\"india_state.geojson\")\n",
        "df = pd.read_csv(\"data.csv\")\n",
        "\n",
        "fig, ax = plt.subplots(figsize=(10, 12))\n",
        "india_map.plot(ax=ax, color=\"lightgrey\", edgecolor=\"black\")\n",
        "\n",
        "plt.scatter(df[\"longitude\"], df[\"latitude\"], color=\"red\", s=20, label=\"Sensor Locations\", alpha=0.7)\n",
        "plt.xlabel(\"Longitude\")\n",
        "plt.ylabel(\"Latitude\")\n",
        "plt.title(\"Air Quality Sensor Locations in India\")\n",
        "plt.legend()\n",
        "plt.show()\n"
      ]
    },
    {
      "cell_type": "markdown",
      "metadata": {
        "id": "ARBGcvMHNr9t"
      },
      "source": [
        "# **Tell us something new**"
      ]
    },
    {
      "cell_type": "markdown",
      "metadata": {
        "id": "VOzNIz6yNt0j"
      },
      "source": [
        "1. Tell us something interesting from the dataset that we have not asked. Anything that\n",
        "intrigues you, anything that might be useful to the policymakers.  "
      ]
    },
    {
      "cell_type": "markdown",
      "metadata": {
        "id": "HXyEgeRtPZYj"
      },
      "source": [
        "1. The provided PMI data, shows month-wise that during which months the pollution is at its peak.\n",
        "2. It also shows the effect of COVID-19 During the year 2019-2020, how drastically it affected the level of pollution, from which we can infer about the major sources contributing for pollution.\n",
        "3. By seeing that more NCAP funding and proper execution of policies in some states lead to relatively low pollution, the same strategies can be applied to other states.\n",
        "4. By observing Density VS Population visualization, places that require urgent intervention can be identified."
      ]
    },
    {
      "cell_type": "code",
      "execution_count": null,
      "metadata": {
        "id": "BlIHjAmiPTxJ"
      },
      "outputs": [],
      "source": []
    }
  ],
  "metadata": {
    "colab": {
      "provenance": []
    },
    "kernelspec": {
      "display_name": "Python 3",
      "name": "python3"
    },
    "language_info": {
      "name": "python"
    }
  },
  "nbformat": 4,
  "nbformat_minor": 0
}
